{
 "cells": [
  {
   "cell_type": "markdown",
   "metadata": {},
   "source": [
    "# 3. LME銅3M先物 - ボラティリティ分析\n",
    "\n",
    "## 概要\n",
    "LME銅3M先物のボラティリティ特性を包括的に分析します。\n",
    "\n",
    "### 分析内容\n",
    "1. ボラティリティサーフェス分析\n",
    "2. GARCHモデルでのボラティリティモデリング\n",
    "3. ボラティリティクラスタリング\n",
    "4. リスクメトリクス計算\n",
    "5. ボラティリティスマイル分析\n",
    "6. ボラティリティスピルオーバー効果"
   ]
  },
  {
   "cell_type": "code",
   "execution_count": null,
   "metadata": {},
   "outputs": [],
   "source": [
    "import pandas as pd\n",
    "import numpy as np\n",
    "import matplotlib.pyplot as plt\n",
    "import seaborn as sns\n",
    "from sqlalchemy import create_engine\n",
    "from sklearn.cluster import KMeans\n",
    "from sklearn.preprocessing import StandardScaler\n",
    "from scipy import stats\n",
    "from arch import arch_model\n",
    "import warnings\n",
    "warnings.filterwarnings('ignore')\n",
    "\n",
    "# 日本語フォント設定\n",
    "plt.rcParams['font.family'] = 'DejaVu Sans'\n",
    "plt.rcParams['axes.unicode_minus'] = False\n",
    "\n",
    "# データベース接続\n",
    "engine = create_engine('postgresql://Yusuke@localhost:5432/lme_copper_db')\n",
    "\n",
    "print(\"=== LME銅3M先物ボラティリティ分析システム ===\")\n",
    "print(\"データベース接続完了\")"
   ]
  },
  {
   "cell_type": "markdown",
   "metadata": {},
   "source": [
    "## 1. データ読み込みと前処理"
   ]
  },
  {
   "cell_type": "code",
   "execution_count": null,
   "metadata": {},
   "outputs": [],
   "source": [
    "# LME銅3M先物データの読み込み\n",
    "query = \"\"\"\n",
    "SELECT \n",
    "    date,\n",
    "    m3_price as price,\n",
    "    m3_volume as volume\n",
    "FROM lme_copper_futures\n",
    "WHERE m3_price IS NOT NULL\n",
    "ORDER BY date\n",
    "\"\"\"\n",
    "\n",
    "df = pd.read_sql_query(query, engine)\n",
    "df['date'] = pd.to_datetime(df['date'])\n",
    "df.set_index('date', inplace=True)\n",
    "\n",
    "# リターン\n",
    "df['returns'] = df['price'].pct_change()\n",
    "df['log_returns'] = np.log(df['price'] / df['price'].shift(1))\n",
    "df['squared_returns'] = df['returns'] ** 2\n",
    "df['abs_returns'] = df['returns'].abs()\n",
    "\n",
    "# 欠損値除去\n",
    "df = df.dropna()\n",
    "\n",
    "print(f\"データ期間: {df.index.min()} - {df.index.max()}\")\n",
    "print(f\"総レコード数: {len(df):,}\")\n",
    "\n",
    "# 基本統計\n",
    "print(\"\\n=== リターン統計 ===\")\n",
    "print(f\"平均日次リターン: {df['returns'].mean():.6f}\")\n",
    "print(f\"日次ボラティリティ: {df['returns'].std():.6f}\")\n",
    "print(f\"年率ボラティリティ: {df['returns'].std() * np.sqrt(252):.4f}\")\n",
    "print(f\"最大ドローダウン: {df['returns'].min():.4f}\")\n",
    "print(f\"最大アップ: {df['returns'].max():.4f}\")"
   ]
  }
 ],
 "metadata": {
  "kernelspec": {
   "display_name": "Python 3",
   "language": "python",
   "name": "python3"
  },
  "language_info": {
   "codemirror_mode": {
    "name": "ipython",
    "version": 3
   },
   "file_extension": ".py",
   "mimetype": "text/x-python",
   "name": "python",
   "nbconvert_exporter": "python",
   "pygments_lexer": "ipython3",
   "version": "3.8.5"
  }
 },
 "nbformat": 4,
 "nbformat_minor": 4
}