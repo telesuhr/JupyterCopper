{
 "cells": [
  {
   "cell_type": "markdown",
   "metadata": {},
   "source": [
    "# 4. LME銅3M先物 - モデル比較分析\n",
    "\n",
    "## 概要\n",
    "LME銅3M先物の価格予測に向けて、複数の機械学習モデルを比較分析します。\n",
    "\n",
    "### 比較モデル\n",
    "1. Random Forest Regressor\n",
    "2. XGBoost Regressor\n",
    "3. Support Vector Regression\n",
    "4. ARIMAモデル\n",
    "5. Linear Regression\n",
    "6. Ridge Regression\n",
    "\n",
    "### 評価指標\n",
    "- RMSE（Root Mean Square Error）\n",
    "- MAE（Mean Absolute Error）\n",
    "- R-squared\n",
    "- 方向性精度\n",
    "- シャープレシオ"
   ]
  },
  {
   "cell_type": "code",
   "execution_count": null,
   "metadata": {},
   "outputs": [],
   "source": [
    "import pandas as pd\n",
    "import numpy as np\n",
    "import matplotlib.pyplot as plt\n",
    "import seaborn as sns\n",
    "from sqlalchemy import create_engine\n",
    "\n",
    "from sklearn.model_selection import train_test_split, TimeSeriesSplit, cross_val_score\n",
    "from sklearn.ensemble import RandomForestRegressor\n",
    "from sklearn.linear_model import LinearRegression, Ridge\n",
    "from sklearn.svm import SVR\n",
    "from sklearn.preprocessing import StandardScaler\n",
    "from sklearn.metrics import mean_squared_error, mean_absolute_error, r2_score\n",
    "\n",
    "import xgboost as xgb\n",
    "from statsmodels.tsa.arima.model import ARIMA\n",
    "from statsmodels.stats.diagnostic import acorr_ljungbox\n",
    "\n",
    "import warnings\n",
    "warnings.filterwarnings('ignore')\n",
    "\n",
    "# 日本語フォント設定\n",
    "plt.rcParams['font.family'] = 'DejaVu Sans'\n",
    "plt.rcParams['axes.unicode_minus'] = False\n",
    "\n",
    "# データベース接続\n",
    "engine = create_engine('postgresql://Yusuke@localhost:5432/lme_copper_db')\n",
    "\n",
    "print(\"=== LME銅3M先物モデル比較分析システム ===\")\n",
    "print(\"データベース接続完了\")"
   ]
  },
  {
   "cell_type": "markdown",
   "metadata": {},
   "source": [
    "## 1. データ読み込みと特徴量作成"
   ]
  },
  {
   "cell_type": "code",
   "execution_count": null,
   "metadata": {},
   "outputs": [],
   "source": [
    "# LME銅3M先物データの読み込み\n",
    "query = \"\"\"\n",
    "SELECT \n",
    "    date,\n",
    "    m3_price as price,\n",
    "    m3_volume as volume,\n",
    "    m1_price,\n",
    "    m2_price,\n",
    "    m4_price,\n",
    "    m5_price,\n",
    "    m6_price\n",
    "FROM lme_copper_futures\n",
    "WHERE m3_price IS NOT NULL\n",
    "ORDER BY date\n",
    "\"\"\"\n",
    "\n",
    "df = pd.read_sql_query(query, engine)\n",
    "df['date'] = pd.to_datetime(df['date'])\n",
    "df.set_index('date', inplace=True)\n",
    "\n",
    "print(f\"データ期間: {df.index.min()} - {df.index.max()}\")\n",
    "print(f\"総レコード数: {len(df):,}\")\n",
    "\n",
    "df.head()"
   ]
  }
 ],
 "metadata": {
  "kernelspec": {
   "display_name": "Python 3",
   "language": "python",
   "name": "python3"
  },
  "language_info": {
   "codemirror_mode": {
    "name": "ipython",
    "version": 3
   },
   "file_extension": ".py",
   "mimetype": "text/x-python",
   "name": "python",
   "nbconvert_exporter": "python",
   "pygments_lexer": "ipython3",
   "version": "3.8.5"
  }
 },
 "nbformat": 4,
 "nbformat_minor": 4
}