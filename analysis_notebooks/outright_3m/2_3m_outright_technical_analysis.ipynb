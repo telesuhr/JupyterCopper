{
 "cells": [
  {
   "cell_type": "markdown",
   "metadata": {},
   "source": [
    "# 2. LME銅3M先物 - テクニカル分析\n",
    "\n",
    "## 概要\n",
    "LME銅3M先物のテクニカル分析を実施します。\n",
    "\n",
    "### 分析内容\n",
    "1. 移動平均線分析\n",
    "2. ボラティリティ分析\n",
    "3. モメンタム指標\n",
    "4. サポート・レジスタンス\n",
    "5. チャートパターン識別\n",
    "6. オシレーター分析"
   ]
  },
  {
   "cell_type": "code",
   "execution_count": null,
   "metadata": {},
   "outputs": [],
   "source": [
    "import pandas as pd\n",
    "import numpy as np\n",
    "import matplotlib.pyplot as plt\n",
    "import seaborn as sns\n",
    "from sqlalchemy import create_engine\n",
    "import warnings\n",
    "warnings.filterwarnings('ignore')\n",
    "\n",
    "# 日本語フォント設定\n",
    "plt.rcParams['font.family'] = 'DejaVu Sans'\n",
    "plt.rcParams['axes.unicode_minus'] = False\n",
    "\n",
    "# データベース接続\n",
    "engine = create_engine('postgresql://Yusuke@localhost:5432/lme_copper_db')\n",
    "\n",
    "print(\"=== LME銅3M先物テクニカル分析システム ===\")\n",
    "print(\"データベース接続完了\")"
   ]
  },
  {
   "cell_type": "markdown",
   "metadata": {},
   "source": [
    "## 1. データ読み込み"
   ]
  },
  {
   "cell_type": "code",
   "execution_count": null,
   "metadata": {},
   "outputs": [],
   "source": [
    "# LME銅3M先物データの読み込み\n",
    "query = \"\"\"\n",
    "SELECT \n",
    "    date,\n",
    "    m3_price as price,\n",
    "    m3_volume as volume\n",
    "FROM lme_copper_futures\n",
    "WHERE m3_price IS NOT NULL\n",
    "ORDER BY date\n",
    "\"\"\"\n",
    "\n",
    "df = pd.read_sql_query(query, engine)\n",
    "df['date'] = pd.to_datetime(df['date'])\n",
    "df.set_index('date', inplace=True)\n",
    "\n",
    "print(f\"データ期間: {df.index.min()} - {df.index.max()}\")\n",
    "print(f\"総レコード数: {len(df):,}\")\n",
    "print(f\"価格レンジ: ${df['price'].min():.2f} - ${df['price'].max():.2f}\")\n",
    "\n",
    "# 日次リターン計算\n",
    "df['returns'] = df['price'].pct_change()\n",
    "df['log_returns'] = np.log(df['price'] / df['price'].shift(1))\n",
    "\n",
    "df.head()"
   ]
  }
 ],
 "metadata": {
  "kernelspec": {
   "display_name": "Python 3",
   "language": "python",
   "name": "python3"
  },
  "language_info": {
   "codemirror_mode": {
    "name": "ipython",
    "version": 3
   },
   "file_extension": ".py",
   "mimetype": "text/x-python",
   "name": "python",
   "nbconvert_exporter": "python",
   "pygments_lexer": "ipython3",
   "version": "3.8.5"
  }
 },
 "nbformat": 4,
 "nbformat_minor": 4
}